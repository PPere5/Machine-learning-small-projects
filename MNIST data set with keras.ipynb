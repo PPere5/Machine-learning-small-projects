{
 "cells": [
  {
   "cell_type": "markdown",
   "metadata": {},
   "source": [
    "# MNIST Data Set with keras"
   ]
  },
  {
   "cell_type": "code",
   "execution_count": 1,
   "metadata": {},
   "outputs": [
    {
     "name": "stderr",
     "output_type": "stream",
     "text": [
      "Using TensorFlow backend.\n"
     ]
    }
   ],
   "source": [
    "#Loading modules\n",
    "import numpy as np\n",
    "\n",
    "import keras\n",
    "# labeled dataset\n",
    "from keras.datasets import mnist\n",
    "# keras cnn building\n",
    "from keras.models import Sequential\n",
    "from keras.layers import  Conv2D, Dense, Dropout, Flatten, MaxPooling2D\n",
    "#Visualisation\n",
    "import matplotlib.pyplot as plt\n",
    "%matplotlib inline"
   ]
  },
  {
   "cell_type": "code",
   "execution_count": 2,
   "metadata": {},
   "outputs": [],
   "source": [
    "''''Trains a simple convnet on the MNIST dataset.\n",
    "'''\n",
    "# batch size\n",
    "batch_size = 128\n",
    "# 10 different numbers to label...\n",
    "num_classes = 10\n",
    "# training time epochs\n",
    "epochs = 10\n",
    "\n",
    "# input image dimensions, MNIST has 28x28 pixel images\n",
    "img_rows, img_cols = 28, 28\n",
    "\n",
    "# split between training and test set, no need for sklearn with mnist data...\n",
    "(x_train, y_train), (x_test, y_test) = mnist.load_data()\n",
    "\n"
   ]
  },
  {
   "cell_type": "code",
   "execution_count": 3,
   "metadata": {},
   "outputs": [
    {
     "data": {
      "text/plain": [
       "<matplotlib.image.AxesImage at 0x1d5822fa6a0>"
      ]
     },
     "execution_count": 3,
     "metadata": {},
     "output_type": "execute_result"
    },
    {
     "data": {
      "image/png": "[encoded data removed]",
      "text/plain": [
       "<Figure size 432x288 with 1 Axes>"
      ]
     },
     "metadata": {
      "needs_background": "light"
     },
     "output_type": "display_data"
    }
   ],
   "source": [
    "#visualise an element of training set\n",
    "\n",
    "plt.imshow(x_train[1])"
   ]
  },
  {
   "cell_type": "code",
   "execution_count": 4,
   "metadata": {},
   "outputs": [
    {
     "name": "stdout",
     "output_type": "stream",
     "text": [
      "x_train shape: (60000, 28, 28, 1)\n",
      "60000 train samples\n",
      "10000 test samples\n"
     ]
    }
   ],
   "source": [
    "\n",
    "#data shape\n",
    "x_train = x_train.reshape(x_train.shape[0], img_rows, img_cols, 1)\n",
    "x_test = x_test.reshape(x_test.shape[0], img_rows, img_cols, 1)\n",
    "input_shape = (img_rows, img_cols, 1)\n",
    "\n",
    "# changing type to float32 allows model to run more efficiently\n",
    "x_train = x_train.astype('float32')\n",
    "x_test = x_test.astype('float32')\n",
    "#rescale rgbs to [0,1]\n",
    "x_train /= 255\n",
    "x_test /= 255\n",
    "print('x_train shape:', x_train.shape)\n",
    "train_size = x_train.shape[0]\n",
    "test_size = x_test.shape[0]\n",
    "print(x_train.shape[0], 'train samples')\n",
    "print(x_test.shape[0], 'test samples')\n",
    "\n",
    "# one hot encoding target variable\n",
    "y_train = keras.utils.to_categorical(y_train, num_classes)\n",
    "y_test = keras.utils.to_categorical(y_test, num_classes)\n"
   ]
  },
  {
   "cell_type": "code",
   "execution_count": 5,
   "metadata": {},
   "outputs": [
    {
     "name": "stdout",
     "output_type": "stream",
     "text": [
      "WARNING:tensorflow:From C:\\Users\\Pedro\\Anaconda3\\lib\\site-packages\\tensorflow\\python\\framework\\op_def_library.py:263: colocate_with (from tensorflow.python.framework.ops) is deprecated and will be removed in a future version.\n",
      "Instructions for updating:\n",
      "Colocations handled automatically by placer.\n",
      "WARNING:tensorflow:From C:\\Users\\Pedro\\Anaconda3\\lib\\site-packages\\keras\\backend\\tensorflow_backend.py:3733: calling dropout (from tensorflow.python.ops.nn_ops) with keep_prob is deprecated and will be removed in a future version.\n",
      "Instructions for updating:\n",
      "Please use `rate` instead of `keep_prob`. Rate should be set to `rate = 1 - keep_prob`.\n"
     ]
    }
   ],
   "source": [
    "# keras model\n",
    "model = Sequential()\n",
    "# convolutional layer with rectified linear unit activation\n",
    "model.add(Conv2D(32, kernel_size=(3, 3),\n",
    "                 activation='relu',\n",
    "                 input_shape=input_shape))\n",
    "# split image into smaller subsets of images\n",
    "model.add(Conv2D(64, (3, 3), activation='relu'))\n",
    "# pooling to select relevant part of image\n",
    "model.add(MaxPooling2D(pool_size=(2, 2)))\n",
    "# use dropout quite a bit to prevent overfitting\n",
    "model.add(Dropout(rate = 0.25, seed=42))\n",
    "# flatten since too many dimensions, we only want a classification output\n",
    "model.add(Flatten())\n",
    "# fully connected to get all relevant data, interleaved with droupout to let go some reinforcing perceptrons\n",
    "model.add(Dense(128, activation='relu'))\n",
    "model.add(Dropout(rate = 0.5, seed=42))\n",
    "# output a softmax to squash the matrix into output probabilities\n",
    "model.add(Dense(num_classes, activation='softmax'))\n",
    "\n",
    "model.compile(loss=keras.losses.categorical_crossentropy,\n",
    "              optimizer=keras.optimizers.Adadelta(),\n",
    "              metrics=['accuracy']\n",
    "             )\n",
    "\n"
   ]
  },
  {
   "cell_type": "code",
   "execution_count": 6,
   "metadata": {},
   "outputs": [
    {
     "name": "stdout",
     "output_type": "stream",
     "text": [
      "WARNING:tensorflow:From C:\\Users\\Pedro\\Anaconda3\\lib\\site-packages\\tensorflow\\python\\ops\\math_ops.py:3066: to_int32 (from tensorflow.python.ops.math_ops) is deprecated and will be removed in a future version.\n",
      "Instructions for updating:\n",
      "Use tf.cast instead.\n",
      "Train on 60000 samples, validate on 10000 samples\n",
      "Epoch 1/10\n",
      "60000/60000 [==============================] - 140s 2ms/step - loss: 0.2525 - acc: 0.9219 - val_loss: 0.0542 - val_acc: 0.9828\n",
      "Epoch 2/10\n",
      "60000/60000 [==============================] - 141s 2ms/step - loss: 0.0829 - acc: 0.9754 - val_loss: 0.0394 - val_acc: 0.9867\n",
      "Epoch 3/10\n",
      "60000/60000 [==============================] - 143s 2ms/step - loss: 0.0627 - acc: 0.9807 - val_loss: 0.0357 - val_acc: 0.9877\n",
      "Epoch 4/10\n",
      "60000/60000 [==============================] - 134s 2ms/step - loss: 0.0517 - acc: 0.9844 - val_loss: 0.0287 - val_acc: 0.9908\n",
      "Epoch 5/10\n",
      "60000/60000 [==============================] - 142s 2ms/step - loss: 0.0443 - acc: 0.9864 - val_loss: 0.0278 - val_acc: 0.9910\n",
      "Epoch 6/10\n",
      "60000/60000 [==============================] - 148s 2ms/step - loss: 0.0420 - acc: 0.9877 - val_loss: 0.0273 - val_acc: 0.9910\n",
      "Epoch 7/10\n",
      "60000/60000 [==============================] - 147s 2ms/step - loss: 0.0367 - acc: 0.9893 - val_loss: 0.0279 - val_acc: 0.9899\n",
      "Epoch 8/10\n",
      "60000/60000 [==============================] - 160s 3ms/step - loss: 0.0318 - acc: 0.9902 - val_loss: 0.0257 - val_acc: 0.9918\n",
      "Epoch 9/10\n",
      "60000/60000 [==============================] - 153s 3ms/step - loss: 0.0304 - acc: 0.9908 - val_loss: 0.0291 - val_acc: 0.9909\n",
      "Epoch 10/10\n",
      "60000/60000 [==============================] - 149s 2ms/step - loss: 0.0302 - acc: 0.9912 - val_loss: 0.0280 - val_acc: 0.9909\n"
     ]
    },
    {
     "data": {
      "text/plain": [
       "<keras.callbacks.History at 0x1d585a9f3c8>"
      ]
     },
     "execution_count": 6,
     "metadata": {},
     "output_type": "execute_result"
    }
   ],
   "source": [
    "# train\n",
    "model.fit(x_train, y_train,\n",
    "          batch_size=batch_size,\n",
    "          epochs=epochs,\n",
    "          verbose=1,\n",
    "          validation_data=(x_test, y_test)\n",
    "         )\n",
    "\n"
   ]
  },
  {
   "cell_type": "code",
   "execution_count": 7,
   "metadata": {},
   "outputs": [
    {
     "name": "stdout",
     "output_type": "stream",
     "text": [
      "Test loss: 0.027966844645860328\n",
      "Test accuracy: 0.9909\n"
     ]
    }
   ],
   "source": [
    "# score metrics\n",
    "score = model.evaluate(x_test, y_test, verbose=0)\n",
    "print('Test loss:', score[0])\n",
    "print('Test accuracy:', score[1])"
   ]
  },
  {
   "cell_type": "code",
   "execution_count": 8,
   "metadata": {},
   "outputs": [
    {
     "data": {
      "text/plain": [
       "<matplotlib.image.AxesImage at 0x1d5855202b0>"
      ]
     },
     "execution_count": 8,
     "metadata": {},
     "output_type": "execute_result"
    },
    {
     "data": {
      "image/png": "[encoded data removed]",
      "text/plain": [
       "<Figure size 432x288 with 1 Axes>"
      ]
     },
     "metadata": {
      "needs_background": "light"
     },
     "output_type": "display_data"
    }
   ],
   "source": [
    "x=x_test[42]\n",
    "plt.imshow(x.reshape(img_rows,img_cols))"
   ]
  },
  {
   "cell_type": "code",
   "execution_count": 9,
   "metadata": {},
   "outputs": [
    {
     "name": "stdout",
     "output_type": "stream",
     "text": [
      "4\n"
     ]
    }
   ],
   "source": [
    "\n",
    "x = x.reshape(1,img_rows,img_cols,1)\n",
    "\n",
    "out = model.predict(x)\n",
    "\n",
    "print(np.argmax(out,axis=1)[0])"
   ]
  },
  {
   "cell_type": "code",
   "execution_count": null,
   "metadata": {},
   "outputs": [],
   "source": []
  }
 ],
 "metadata": {
  "kernelspec": {
   "display_name": "Python 3",
   "language": "python",
   "name": "python3"
  },
  "language_info": {
   "codemirror_mode": {
    "name": "ipython",
    "version": 3
   },
   "file_extension": ".py",
   "mimetype": "text/x-python",
   "name": "python",
   "nbconvert_exporter": "python",
   "pygments_lexer": "ipython3",
   "version": "3.6.8"
  }
 },
 "nbformat": 4,
 "nbformat_minor": 2
}
